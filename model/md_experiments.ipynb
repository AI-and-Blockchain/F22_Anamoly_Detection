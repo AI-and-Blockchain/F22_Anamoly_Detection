{
 "cells": [
  {
   "cell_type": "markdown",
   "id": "0c6a707c-a101-45e5-acc3-236ac004c3f1",
   "metadata": {},
   "source": [
    "# Model Training"
   ]
  },
  {
   "cell_type": "markdown",
   "id": "730458bd-f9f9-4988-9563-25eeac254d84",
   "metadata": {},
   "source": [
    "### Setup"
   ]
  },
  {
   "cell_type": "code",
   "execution_count": 1,
   "id": "00e9e444-6f35-47df-aeed-e3e18e09ae61",
   "metadata": {},
   "outputs": [],
   "source": [
    "import numpy as np\n",
    "import pandas as pd\n",
    "\n",
    "import seaborn as sns\n",
    "import matplotlib.pyplot as plt\n",
    "\n",
    "from tqdm.notebook import tqdm\n",
    "\n",
    "from sklearn.model_selection import train_test_split\n",
    "from sklearn.preprocessing import StandardScaler\n",
    "from sklearn.metrics import confusion_matrix\n",
    "\n",
    "from mahalanobis_distence_method import MahalanobisDistenceMethod"
   ]
  },
  {
   "cell_type": "code",
   "execution_count": 28,
   "id": "374569f0-48f2-4b39-8abb-06a7e558ef8f",
   "metadata": {},
   "outputs": [],
   "source": [
    "def precision_recall_f1(cm):\n",
    "    tn = cm[0][0]\n",
    "    tp = cm[1][1]\n",
    "    fp = cm[0][1]\n",
    "    fn = cm[1][0]\n",
    "    \n",
    "    precision = tp / (tp + fp) if tp + fp != 0 else 0.0\n",
    "    recall = tp / (tp + fn) if tp + fn != 0 else 0.0\n",
    "    f1 = 2 * precision * recall / (precision + recall) if precision + recall != 0 else 0.0\n",
    "    \n",
    "    return (precision, recall, f1)\n",
    "\n",
    "def accuracies(cm):\n",
    "    tn = cm[0][0]\n",
    "    tp = cm[1][1]\n",
    "    fp = cm[0][1]\n",
    "    fn = cm[1][0]\n",
    "    \n",
    "    acc = (tp + tn) / (tp + tn + fp + fn)\n",
    "    postive_acc = tp / (tp + fn)\n",
    "    negative_acc = tn / (tn + fp)\n",
    "    \n",
    "    return (acc, postive_acc, negative_acc)\n",
    "\n",
    "def intersection_threhold(results):\n",
    "    for s_acc, l_acc, eps in zip(results[\"scam_accuracy\"], results[\"legit_accuracy\"], results[\"epsilon\"]):\n",
    "        if s_acc >= l_acc:\n",
    "            return eps\n",
    "    return 0\n",
    "\n",
    "def feature_selection(ModelClass, X, y, feature_names, threshold_func):\n",
    "    X = X.copy()\n",
    "    y = y.copy()\n",
    "    feature_names = feature_names.copy()\n",
    "    \n",
    "    selection = []\n",
    "    for _ in tqdm(range(len(feature_names)-1)):\n",
    "        accs = []\n",
    "        for i in range(len(feature_names)):\n",
    "            X_next = np.delete(X, i, axis=1)\n",
    "            model = ModelClass(epsilon=0.03)\n",
    "            model.fit(X_next)\n",
    "            results = model.evaluate(X_next, y_train)\n",
    "            \n",
    "            eps = threshold_func(results)\n",
    "            model.set_epsilon(eps)\n",
    "\n",
    "            y_pred = model.classify(X_next)\n",
    "            y_scam = y_pred[np.where(y==1)]\n",
    "            y_legit = y_pred[np.where(y==0)]\n",
    "\n",
    "            acc = np.sum(y_pred == y) / len(y_train)\n",
    "            scam_acc = np.sum(y_scam == y[np.where(y==1)]) / len(y_scam)\n",
    "            legit_acc = np.sum(y_legit == y[np.where(y==0)]) / len(y_legit)\n",
    "\n",
    "            accs.append((i, acc))\n",
    "        \n",
    "        accs = sorted(accs, key=lambda a: a[1])\n",
    "        idx, acc = accs[-1]\n",
    "        X = np.delete(X, idx, axis=1)\n",
    "        feature_names.pop(idx)\n",
    "        selection.append((feature_names.copy(), acc))\n",
    "    \n",
    "    return list(reversed(selection))"
   ]
  },
  {
   "cell_type": "markdown",
   "id": "14c59d58-26fc-42fb-9ce7-b4d627926b29",
   "metadata": {},
   "source": [
    "### Read and Split Data"
   ]
  },
  {
   "cell_type": "code",
   "execution_count": 54,
   "id": "282f192c-91a1-49c9-82b2-32537edddcc4",
   "metadata": {},
   "outputs": [],
   "source": [
    "transaction_df = pd.read_csv(\"../data/transactions.csv\")"
   ]
  },
  {
   "cell_type": "code",
   "execution_count": 55,
   "id": "1b5e1baa-d949-423d-bdfe-89650f3cede1",
   "metadata": {},
   "outputs": [],
   "source": [
    "train_df, test_df = train_test_split(transaction_df, train_size=0.8, shuffle=True, stratify=transaction_df[\"label\"], random_state=1234)"
   ]
  },
  {
   "cell_type": "code",
   "execution_count": 56,
   "id": "42815309-f953-481a-95b1-acd58563d384",
   "metadata": {},
   "outputs": [],
   "source": [
    "# Only keep nessesary features. \n",
    "train_df = train_df[['address', 'label', 'from_benfords_second', 'in_gas_limit_avg', 'merged_benfords_second', 'to_benfords_second']]\n",
    "test_df = test_df[['address', 'label', 'from_benfords_second', 'in_gas_limit_avg', 'merged_benfords_second', 'to_benfords_second']]"
   ]
  },
  {
   "cell_type": "code",
   "execution_count": 57,
   "id": "816ac399-b5cc-4a2f-ade4-136a423ba39c",
   "metadata": {},
   "outputs": [],
   "source": [
    "feature_list = train_df.columns.tolist()[2:]"
   ]
  },
  {
   "cell_type": "markdown",
   "id": "118fcec9-827a-4168-9d12-a203083fd519",
   "metadata": {},
   "source": [
    "### Data Exploration"
   ]
  },
  {
   "cell_type": "code",
   "execution_count": 58,
   "id": "a7e58ccd-4765-4336-b3f4-fce2b12f0d70",
   "metadata": {},
   "outputs": [],
   "source": [
    "legit_df = train_df[train_df[\"label\"] == 0].drop(columns=[\"label\"])\n",
    "scam_df = train_df[train_df[\"label\"] == 1].drop(columns=[\"label\"])"
   ]
  },
  {
   "cell_type": "code",
   "execution_count": 59,
   "id": "d5d09651-ac91-44d0-9a43-993d9941bb45",
   "metadata": {},
   "outputs": [
    {
     "data": {
      "text/html": [
       "<div>\n",
       "<style scoped>\n",
       "    .dataframe tbody tr th:only-of-type {\n",
       "        vertical-align: middle;\n",
       "    }\n",
       "\n",
       "    .dataframe tbody tr th {\n",
       "        vertical-align: top;\n",
       "    }\n",
       "\n",
       "    .dataframe thead th {\n",
       "        text-align: right;\n",
       "    }\n",
       "</style>\n",
       "<table border=\"1\" class=\"dataframe\">\n",
       "  <thead>\n",
       "    <tr style=\"text-align: right;\">\n",
       "      <th></th>\n",
       "      <th>from_benfords_second</th>\n",
       "      <th>in_gas_limit_avg</th>\n",
       "      <th>merged_benfords_second</th>\n",
       "      <th>to_benfords_second</th>\n",
       "    </tr>\n",
       "  </thead>\n",
       "  <tbody>\n",
       "    <tr>\n",
       "      <th>count</th>\n",
       "      <td>748072.000000</td>\n",
       "      <td>7.480720e+05</td>\n",
       "      <td>748072.000000</td>\n",
       "      <td>748072.000000</td>\n",
       "    </tr>\n",
       "    <tr>\n",
       "      <th>mean</th>\n",
       "      <td>5.463394</td>\n",
       "      <td>1.027917e+05</td>\n",
       "      <td>12.260453</td>\n",
       "      <td>8.825854</td>\n",
       "    </tr>\n",
       "    <tr>\n",
       "      <th>std</th>\n",
       "      <td>7.043980</td>\n",
       "      <td>3.775520e+05</td>\n",
       "      <td>4.856137</td>\n",
       "      <td>6.952743</td>\n",
       "    </tr>\n",
       "    <tr>\n",
       "      <th>min</th>\n",
       "      <td>0.000000</td>\n",
       "      <td>0.000000e+00</td>\n",
       "      <td>0.000817</td>\n",
       "      <td>0.000000</td>\n",
       "    </tr>\n",
       "    <tr>\n",
       "      <th>25%</th>\n",
       "      <td>0.000000</td>\n",
       "      <td>0.000000e+00</td>\n",
       "      <td>9.858199</td>\n",
       "      <td>0.000000</td>\n",
       "    </tr>\n",
       "    <tr>\n",
       "      <th>50%</th>\n",
       "      <td>0.000000</td>\n",
       "      <td>0.000000e+00</td>\n",
       "      <td>14.906047</td>\n",
       "      <td>14.842111</td>\n",
       "    </tr>\n",
       "    <tr>\n",
       "      <th>75%</th>\n",
       "      <td>14.906047</td>\n",
       "      <td>6.300000e+04</td>\n",
       "      <td>15.033049</td>\n",
       "      <td>14.990842</td>\n",
       "    </tr>\n",
       "    <tr>\n",
       "      <th>max</th>\n",
       "      <td>15.117092</td>\n",
       "      <td>1.795264e+07</td>\n",
       "      <td>15.117092</td>\n",
       "      <td>15.117092</td>\n",
       "    </tr>\n",
       "  </tbody>\n",
       "</table>\n",
       "</div>"
      ],
      "text/plain": [
       "       from_benfords_second  in_gas_limit_avg  merged_benfords_second  \\\n",
       "count         748072.000000      7.480720e+05           748072.000000   \n",
       "mean               5.463394      1.027917e+05               12.260453   \n",
       "std                7.043980      3.775520e+05                4.856137   \n",
       "min                0.000000      0.000000e+00                0.000817   \n",
       "25%                0.000000      0.000000e+00                9.858199   \n",
       "50%                0.000000      0.000000e+00               14.906047   \n",
       "75%               14.906047      6.300000e+04               15.033049   \n",
       "max               15.117092      1.795264e+07               15.117092   \n",
       "\n",
       "       to_benfords_second  \n",
       "count       748072.000000  \n",
       "mean             8.825854  \n",
       "std              6.952743  \n",
       "min              0.000000  \n",
       "25%              0.000000  \n",
       "50%             14.842111  \n",
       "75%             14.990842  \n",
       "max             15.117092  "
      ]
     },
     "execution_count": 59,
     "metadata": {},
     "output_type": "execute_result"
    }
   ],
   "source": [
    "legit_df.describe()"
   ]
  },
  {
   "cell_type": "code",
   "execution_count": 60,
   "id": "81f7bdbb-d4c8-460d-90fc-2e8de16f8d66",
   "metadata": {},
   "outputs": [
    {
     "data": {
      "text/html": [
       "<div>\n",
       "<style scoped>\n",
       "    .dataframe tbody tr th:only-of-type {\n",
       "        vertical-align: middle;\n",
       "    }\n",
       "\n",
       "    .dataframe tbody tr th {\n",
       "        vertical-align: top;\n",
       "    }\n",
       "\n",
       "    .dataframe thead th {\n",
       "        text-align: right;\n",
       "    }\n",
       "</style>\n",
       "<table border=\"1\" class=\"dataframe\">\n",
       "  <thead>\n",
       "    <tr style=\"text-align: right;\">\n",
       "      <th></th>\n",
       "      <th>from_benfords_second</th>\n",
       "      <th>in_gas_limit_avg</th>\n",
       "      <th>merged_benfords_second</th>\n",
       "      <th>to_benfords_second</th>\n",
       "    </tr>\n",
       "  </thead>\n",
       "  <tbody>\n",
       "    <tr>\n",
       "      <th>count</th>\n",
       "      <td>4710.000000</td>\n",
       "      <td>4.710000e+03</td>\n",
       "      <td>4710.000000</td>\n",
       "      <td>4710.000000</td>\n",
       "    </tr>\n",
       "    <tr>\n",
       "      <th>mean</th>\n",
       "      <td>11.668948</td>\n",
       "      <td>4.425386e+05</td>\n",
       "      <td>14.432329</td>\n",
       "      <td>14.329737</td>\n",
       "    </tr>\n",
       "    <tr>\n",
       "      <th>std</th>\n",
       "      <td>5.908399</td>\n",
       "      <td>1.316225e+06</td>\n",
       "      <td>1.825883</td>\n",
       "      <td>2.196887</td>\n",
       "    </tr>\n",
       "    <tr>\n",
       "      <th>min</th>\n",
       "      <td>0.000000</td>\n",
       "      <td>0.000000e+00</td>\n",
       "      <td>0.005340</td>\n",
       "      <td>0.000000</td>\n",
       "    </tr>\n",
       "    <tr>\n",
       "      <th>25%</th>\n",
       "      <td>14.820733</td>\n",
       "      <td>5.582400e+04</td>\n",
       "      <td>14.820733</td>\n",
       "      <td>14.820733</td>\n",
       "    </tr>\n",
       "    <tr>\n",
       "      <th>50%</th>\n",
       "      <td>14.820733</td>\n",
       "      <td>1.750000e+05</td>\n",
       "      <td>14.820733</td>\n",
       "      <td>14.820733</td>\n",
       "    </tr>\n",
       "    <tr>\n",
       "      <th>75%</th>\n",
       "      <td>14.820733</td>\n",
       "      <td>2.000000e+05</td>\n",
       "      <td>14.884768</td>\n",
       "      <td>14.884768</td>\n",
       "    </tr>\n",
       "    <tr>\n",
       "      <th>max</th>\n",
       "      <td>15.117092</td>\n",
       "      <td>7.600027e+06</td>\n",
       "      <td>15.117092</td>\n",
       "      <td>15.117092</td>\n",
       "    </tr>\n",
       "  </tbody>\n",
       "</table>\n",
       "</div>"
      ],
      "text/plain": [
       "       from_benfords_second  in_gas_limit_avg  merged_benfords_second  \\\n",
       "count           4710.000000      4.710000e+03             4710.000000   \n",
       "mean              11.668948      4.425386e+05               14.432329   \n",
       "std                5.908399      1.316225e+06                1.825883   \n",
       "min                0.000000      0.000000e+00                0.005340   \n",
       "25%               14.820733      5.582400e+04               14.820733   \n",
       "50%               14.820733      1.750000e+05               14.820733   \n",
       "75%               14.820733      2.000000e+05               14.884768   \n",
       "max               15.117092      7.600027e+06               15.117092   \n",
       "\n",
       "       to_benfords_second  \n",
       "count         4710.000000  \n",
       "mean            14.329737  \n",
       "std              2.196887  \n",
       "min              0.000000  \n",
       "25%             14.820733  \n",
       "50%             14.820733  \n",
       "75%             14.884768  \n",
       "max             15.117092  "
      ]
     },
     "execution_count": 60,
     "metadata": {},
     "output_type": "execute_result"
    }
   ],
   "source": [
    "scam_df.describe()"
   ]
  },
  {
   "cell_type": "code",
   "execution_count": 61,
   "id": "d45a233b-a701-4c30-a8c2-25482e82540c",
   "metadata": {},
   "outputs": [],
   "source": [
    "trans_corr = train_df.corr()\n",
    "legit_corr = legit_df.corr()\n",
    "scam_corr = scam_df.corr()\n",
    "\n",
    "abs_corr_dif = np.abs(legit_corr - scam_corr)"
   ]
  },
  {
   "cell_type": "code",
   "execution_count": 62,
   "id": "171e7aa1-b9c0-4fb7-972c-ef67d689420b",
   "metadata": {},
   "outputs": [
    {
     "data": {
      "text/plain": [
       "<Figure size 432x288 with 0 Axes>"
      ]
     },
     "metadata": {},
     "output_type": "display_data"
    }
   ],
   "source": [
    "sns.heatmap(trans_corr, xticklabels=True, yticklabels=True, square=True)\n",
    "plt.title(\"Addresses Correltation Matrix\")\n",
    "plt.savefig(\"../figures/add_corr_matrix.png\")\n",
    "plt.clf()\n",
    "\n",
    "sns.heatmap(legit_corr, xticklabels=True, yticklabels=True, square=True)\n",
    "plt.title(\"Legit Addresses Correltation Matrix\")\n",
    "plt.savefig(\"../figures/leg_corr_matrix.png\")\n",
    "plt.clf()\n",
    "\n",
    "sns.heatmap(scam_corr, xticklabels=True, yticklabels=True, square=True)\n",
    "plt.title(\"Scam Addresses Correltation Matrix\")\n",
    "plt.savefig(\"../figures/sca_corr_matrix.png\")\n",
    "plt.clf()\n",
    "\n",
    "sns.heatmap(abs_corr_dif, xticklabels=True, yticklabels=True, square=True)\n",
    "plt.title(\"Absolute Difference of Scam and Legit Correltation Matrices\")\n",
    "plt.savefig(\"../figures/ad_corr_matrix.png\")\n",
    "plt.clf()"
   ]
  },
  {
   "cell_type": "markdown",
   "id": "89f99934-9cd1-40c3-8ad0-038436dd6761",
   "metadata": {},
   "source": [
    "### Feature Selection"
   ]
  },
  {
   "cell_type": "code",
   "execution_count": 11,
   "id": "e7200eef-449e-4209-b24d-3aa2e7659d75",
   "metadata": {},
   "outputs": [],
   "source": [
    "y_train = train_df[\"label\"].to_numpy()\n",
    "X_train = train_df.drop(columns=[\"address\", \"label\"]).to_numpy()"
   ]
  },
  {
   "cell_type": "code",
   "execution_count": 13,
   "id": "d01984fd-1ef2-48ae-85e5-d5f7219ab622",
   "metadata": {},
   "outputs": [
    {
     "data": {
      "application/vnd.jupyter.widget-view+json": {
       "model_id": "dc1d9f67ea404fc1a891ae3923952c79",
       "version_major": 2,
       "version_minor": 0
      },
      "text/plain": [
       "  0%|          | 0/22 [00:00<?, ?it/s]"
      ]
     },
     "metadata": {},
     "output_type": "display_data"
    }
   ],
   "source": [
    "fs_results = feature_selection(MahalanobisDistenceMethod, X_train, y_train, feature_list, intersection_threhold)"
   ]
  },
  {
   "cell_type": "code",
   "execution_count": 33,
   "id": "cbbdfa5e-3a4c-47a2-9f08-6c5ab44350ec",
   "metadata": {},
   "outputs": [
    {
     "data": {
      "image/png": "[encoded data removed]",
      "text/plain": [
       "<Figure size 432x288 with 1 Axes>"
      ]
     },
     "metadata": {
      "needs_background": "light"
     },
     "output_type": "display_data"
    }
   ],
   "source": [
    "accs = [acc for _, acc in fs_results]\n",
    "plt.plot(accs)\n",
    "plt.xlabel(\"Number of Features\")\n",
    "plt.ylabel(\"Model Accuracy\")\n",
    "plt.title(\"Number of Features vs Model Accuracy\")\n",
    "plt.savefig(\"../figures/feature_selection_plot.png\")"
   ]
  },
  {
   "cell_type": "code",
   "execution_count": 35,
   "id": "aa6655c3-c512-4f95-aeff-9795b849e607",
   "metadata": {},
   "outputs": [
    {
     "name": "stdout",
     "output_type": "stream",
     "text": [
      "Features: ['total_count', 'in_count', 'in_value_med', 'in_gas_limit_std', 'from_benfords_second', 'to_benfords_second']\n"
     ]
    }
   ],
   "source": [
    "best_features = max(fs_results, key=lambda s: s[1])[0]\n",
    "print(\"Features:\", best_features)"
   ]
  },
  {
   "cell_type": "code",
   "execution_count": 36,
   "id": "37d412e7-5937-4b26-bcb4-f99ec8102a6c",
   "metadata": {},
   "outputs": [],
   "source": [
    "train_df = train_df[['address', 'label'] + best_features]\n",
    "test_df = test_df[['address', 'label'] + best_features]"
   ]
  },
  {
   "cell_type": "markdown",
   "id": "28f2f782-6594-400d-854d-2fa255360485",
   "metadata": {},
   "source": [
    "### Constructing Dataset and Centered and Scaled"
   ]
  },
  {
   "cell_type": "code",
   "execution_count": 63,
   "id": "a9a86eb8-84b6-4442-b898-25d33167b275",
   "metadata": {},
   "outputs": [],
   "source": [
    "train_addr = train_df[\"address\"].to_numpy()\n",
    "y_train = train_df[\"label\"].to_numpy()\n",
    "X_train = train_df.drop(columns=[\"address\", \"label\"]).to_numpy()\n",
    "\n",
    "test_addr = test_df[\"address\"].to_numpy()\n",
    "y_test = test_df[\"label\"].to_numpy()\n",
    "X_test = test_df.drop(columns=[\"address\", \"label\"]).to_numpy()"
   ]
  },
  {
   "cell_type": "code",
   "execution_count": 64,
   "id": "5d5773c2-5cd4-4417-bf7b-84cd8644e0b9",
   "metadata": {},
   "outputs": [],
   "source": [
    "ss = StandardScaler().fit(X_train)"
   ]
  },
  {
   "cell_type": "code",
   "execution_count": 65,
   "id": "bec0bd14-efdb-47ae-a8a5-d3de8b58c323",
   "metadata": {},
   "outputs": [],
   "source": [
    "X_train = ss.transform(X_train)\n",
    "X_test = ss.transform(X_test)"
   ]
  },
  {
   "cell_type": "markdown",
   "id": "66e8358c-40ab-4ad4-a5e0-c37044123675",
   "metadata": {},
   "source": [
    "### Train Model and Set Classification Threshold"
   ]
  },
  {
   "cell_type": "code",
   "execution_count": 66,
   "id": "6c17e70c-a8ac-4d42-a1a6-0de093b41569",
   "metadata": {},
   "outputs": [],
   "source": [
    "MDM = MahalanobisDistenceMethod()\n",
    "MDM.fit(X_train)"
   ]
  },
  {
   "cell_type": "code",
   "execution_count": 67,
   "id": "bf14b39e-d7d4-4a41-8245-bc5892404fa3",
   "metadata": {},
   "outputs": [],
   "source": [
    "results = MDM.evaluate(X_train, y_train)"
   ]
  },
  {
   "cell_type": "code",
   "execution_count": 68,
   "id": "988c332f-c896-4800-8ce8-13c09f069198",
   "metadata": {},
   "outputs": [
    {
     "data": {
      "image/png": "[encoded data removed]",
      "text/plain": [
       "<Figure size 432x288 with 1 Axes>"
      ]
     },
     "metadata": {
      "needs_background": "light"
     },
     "output_type": "display_data"
    }
   ],
   "source": [
    "eps = intersection_threhold(results)\n",
    "MDM.set_epsilon(eps)\n",
    "        \n",
    "plt.axvline(eps, color=\"orange\", label=\"Tau\")\n",
    "plt.plot(results[\"epsilon\"], results[\"accuracy\"], label=\"Overall\", color=\"blue\")\n",
    "plt.plot(results[\"epsilon\"], results[\"legit_accuracy\"], label=\"Legit\", color=\"green\")\n",
    "plt.plot(results[\"epsilon\"], results[\"scam_accuracy\"], label=\"Scam\", color=\"red\")\n",
    "plt.xlabel(\"Threshold\")\n",
    "plt.ylabel(\"Accuracy\")\n",
    "plt.title(\"Model Accuracy vs Threshold\")\n",
    "plt.legend()\n",
    "plt.savefig(\"../figures/model_acc.png\")"
   ]
  },
  {
   "cell_type": "markdown",
   "id": "76dea2f6-3eb1-4c8b-9685-bf6873e3d1c7",
   "metadata": {},
   "source": [
    "### Evaluate Training Set "
   ]
  },
  {
   "cell_type": "code",
   "execution_count": 69,
   "id": "b1090cf3-3192-47d8-86b9-e3c2ef35a232",
   "metadata": {},
   "outputs": [],
   "source": [
    "y_pred = MDM.classify(X_train)"
   ]
  },
  {
   "cell_type": "code",
   "execution_count": 70,
   "id": "db54263e-507c-4b8d-b9d2-a64b86690770",
   "metadata": {},
   "outputs": [
    {
     "data": {
      "image/png": "[encoded data removed]",
      "text/plain": [
       "<Figure size 432x288 with 2 Axes>"
      ]
     },
     "metadata": {
      "needs_background": "light"
     },
     "output_type": "display_data"
    }
   ],
   "source": [
    "cm = confusion_matrix(y_train, y_pred)\n",
    "sns.heatmap(cm, annot=True, xticklabels=[\"Legit\", \"Scam\"], yticklabels=[\"Legit\", \"Scam\"], fmt=\".0f\")\n",
    "plt.xlabel(\"Predicted\")\n",
    "plt.ylabel(\"True\")\n",
    "plt.title(\"Training Dataset Confusion Matrix\")\n",
    "plt.savefig(\"../figures/train_conf.png\")"
   ]
  },
  {
   "cell_type": "code",
   "execution_count": 71,
   "id": "e5f47f16-29d9-4d6b-bab9-1e779b9154a8",
   "metadata": {},
   "outputs": [],
   "source": [
    "acc, scam_acc, legit_acc = accuracies(cm)\n",
    "pre, rec, f1s = precision_recall_f1(cm)"
   ]
  },
  {
   "cell_type": "code",
   "execution_count": 72,
   "id": "886a1d8c-f34e-4c60-b5e4-01c366a62f22",
   "metadata": {},
   "outputs": [
    {
     "name": "stdout",
     "output_type": "stream",
     "text": [
      "Precision: 0.022 | Recall: 0.777 | f1-score: 0.042\n",
      "Training Accuracy: 77.75% | Legit Accuracy: 77.75% | Scam Accuracy: 77.75%\n"
     ]
    }
   ],
   "source": [
    "print(f\"Precision: {pre:.3f} | Recall: {rec:.3f} | f1-score: {f1s:.3f}\")\n",
    "print(f\"Training Accuracy: {acc*100:.2f}% | Legit Accuracy: {legit_acc*100:.2f}% | Scam Accuracy: {scam_acc*100:.2f}%\")"
   ]
  },
  {
   "cell_type": "markdown",
   "id": "0d0104c9-8c62-45e1-88d8-b5e24f9a4c5b",
   "metadata": {},
   "source": [
    "### Evaluate Testing Set"
   ]
  },
  {
   "cell_type": "code",
   "execution_count": 73,
   "id": "48d38a5a-5e1e-428b-8140-8011538c47fb",
   "metadata": {},
   "outputs": [],
   "source": [
    "y_pred = MDM.classify(X_test)"
   ]
  },
  {
   "cell_type": "code",
   "execution_count": 74,
   "id": "c3390e4a-3730-4e96-a0bf-5c42eff2f41b",
   "metadata": {},
   "outputs": [],
   "source": [
    "y_scam = y_pred[np.where(y_test==1)]\n",
    "y_legit = y_pred[np.where(y_test==0)]"
   ]
  },
  {
   "cell_type": "code",
   "execution_count": 75,
   "id": "7330f21c-dd5b-4953-9690-10c4c3999356",
   "metadata": {},
   "outputs": [
    {
     "data": {
      "image/png": "[encoded data removed]",
      "text/plain": [
       "<Figure size 432x288 with 2 Axes>"
      ]
     },
     "metadata": {
      "needs_background": "light"
     },
     "output_type": "display_data"
    }
   ],
   "source": [
    "cm = confusion_matrix(y_test, y_pred)\n",
    "sns.heatmap(cm, annot=True, xticklabels=[\"Legit\", \"Scam\"], yticklabels=[\"Legit\", \"Scam\"], fmt=\".0f\")\n",
    "plt.xlabel(\"Predicted\")\n",
    "plt.ylabel(\"True\")\n",
    "plt.title(\"Testing Dataset Confusion Matrix\")\n",
    "plt.savefig(\"../figures/test_conf.png\")"
   ]
  },
  {
   "cell_type": "code",
   "execution_count": 76,
   "id": "b094cc6d-8383-4b4e-8d3a-2e971ff3cace",
   "metadata": {},
   "outputs": [],
   "source": [
    "acc, scam_acc, legit_acc = accuracies(cm)\n",
    "pre, rec, f1s = precision_recall_f1(cm)"
   ]
  },
  {
   "cell_type": "code",
   "execution_count": 77,
   "id": "f23fabf5-385b-45ad-863d-e3bb57e86145",
   "metadata": {},
   "outputs": [
    {
     "name": "stdout",
     "output_type": "stream",
     "text": [
      "Precision: 0.022 | Recall: 0.782 | f1-score: 0.042\n",
      "Training Accuracy: 77.84% | Legit Accuracy: 77.84% | Scam Accuracy: 78.25%\n"
     ]
    }
   ],
   "source": [
    "print(f\"Precision: {pre:.3f} | Recall: {rec:.3f} | f1-score: {f1s:.3f}\")\n",
    "print(f\"Training Accuracy: {acc*100:.2f}% | Legit Accuracy: {legit_acc*100:.2f}% | Scam Accuracy: {scam_acc*100:.2f}%\")"
   ]
  },
  {
   "cell_type": "markdown",
   "id": "54b03b57-2969-4666-aeb5-f1205fc3b670",
   "metadata": {},
   "source": [
    "### Standard Scaling and Model Paraemters\n",
    "Standard Scaling: $x_c = \\frac{x-\\mu}{\\sigma}$\n",
    "\n",
    "Multivariate Normal: $P(x; \\mu, \\sigma) = \\frac{1}{\\sqrt{(2\\pi)^d|\\Sigma|}}e^{(-\\frac{1}{2}(x-\\mu)\\Sigma^{-1}(x-\\mu)^T)}$"
   ]
  },
  {
   "cell_type": "code",
   "execution_count": 78,
   "id": "d8361fb6-5890-46dd-be84-ae069f4d74da",
   "metadata": {},
   "outputs": [
    {
     "name": "stdout",
     "output_type": "stream",
     "text": [
      "Standard Scalar Mean: [5.50222074e+00 1.04917419e+05 1.22740420e+01 8.86029064e+00]\n",
      "Standard Scalar STD: [7.05442763e+00 3.91418459e+05 4.84609804e+00 6.94670091e+00]\n"
     ]
    }
   ],
   "source": [
    "print(\"Standard Scalar Mean:\", ss.mean_, end=\"\\n\")\n",
    "print(\"Standard Scalar STD:\", ss.scale_)"
   ]
  },
  {
   "cell_type": "code",
   "execution_count": 81,
   "id": "f541c2b1-cf53-4f35-8fc1-73ed4c82dac9",
   "metadata": {},
   "outputs": [],
   "source": [
    "mu, sigma = MDM.parameters()"
   ]
  },
  {
   "cell_type": "code",
   "execution_count": 82,
   "id": "19e1a6fb-23ea-4cd2-ab58-316ba98243dc",
   "metadata": {},
   "outputs": [
    {
     "name": "stdout",
     "output_type": "stream",
     "text": [
      "PDF Constent: 0.039311655805354055\n"
     ]
    }
   ],
   "source": [
    "print(f\"PDF Constent: {np.sqrt((2*np.pi)**X_train.shape[1] * np.linalg.det(sigma))**-1}\")"
   ]
  },
  {
   "cell_type": "code",
   "execution_count": 83,
   "id": "06bbab2b-580e-451b-9ca1-0122d36b0159",
   "metadata": {},
   "outputs": [
    {
     "name": "stdout",
     "output_type": "stream",
     "text": [
      "PDF mu: [ 8.98016104e-17  3.16674798e-17 -4.09647876e-17  6.55564026e-16]\n"
     ]
    }
   ],
   "source": [
    "print(f\"PDF mu:\", mu)"
   ]
  },
  {
   "cell_type": "code",
   "execution_count": 84,
   "id": "801f5b78-bfd6-429b-a2e4-07df17b40830",
   "metadata": {},
   "outputs": [
    {
     "name": "stdout",
     "output_type": "stream",
     "text": [
      "PDF sigma inv:\n",
      "[[ 2.05904074 -0.48093814 -0.75351254  1.41395853]\n",
      " [-0.48093814  1.13400368  0.2042855  -0.19389946]\n",
      " [-0.75351254  0.2042855   1.42148603 -0.921056  ]\n",
      " [ 1.41395853 -0.19389946 -0.921056    2.13412928]]\n"
     ]
    }
   ],
   "source": [
    "print(f\"PDF sigma inv:\\n{np.linalg.inv(sigma)}\")"
   ]
  }
 ],
 "metadata": {
  "kernelspec": {
   "display_name": "Python 3",
   "language": "python",
   "name": "python3"
  },
  "language_info": {
   "codemirror_mode": {
    "name": "ipython",
    "version": 3
   },
   "file_extension": ".py",
   "mimetype": "text/x-python",
   "name": "python",
   "nbconvert_exporter": "python",
   "pygments_lexer": "ipython3",
   "version": "3.8.8"
  }
 },
 "nbformat": 4,
 "nbformat_minor": 5
}
