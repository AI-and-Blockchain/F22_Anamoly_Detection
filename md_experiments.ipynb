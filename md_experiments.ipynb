{
 "cells": [
  {
   "cell_type": "markdown",
   "id": "0c6a707c-a101-45e5-acc3-236ac004c3f1",
   "metadata": {},
   "source": [
    "# Model Training"
   ]
  },
  {
   "cell_type": "markdown",
   "id": "730458bd-f9f9-4988-9563-25eeac254d84",
   "metadata": {},
   "source": [
    "### Setup"
   ]
  },
  {
   "cell_type": "code",
   "execution_count": 36,
   "id": "00e9e444-6f35-47df-aeed-e3e18e09ae61",
   "metadata": {},
   "outputs": [],
   "source": [
    "import numpy as np\n",
    "import pandas as pd\n",
    "import seaborn as sns\n",
    "\n",
    "from tqdm.notebook import tqdm\n",
    "\n",
    "import matplotlib.pyplot as plt\n",
    "\n",
    "from sklearn.preprocessing import StandardScaler\n",
    "from sklearn.model_selection import train_test_split\n",
    "\n",
    "from mahalanobis_distence_method import MahalanobisDistenceMethod"
   ]
  },
  {
   "cell_type": "markdown",
   "id": "14c59d58-26fc-42fb-9ce7-b4d627926b29",
   "metadata": {},
   "source": [
    "### Read and Split Data"
   ]
  },
  {
   "cell_type": "code",
   "execution_count": 3,
   "id": "282f192c-91a1-49c9-82b2-32537edddcc4",
   "metadata": {},
   "outputs": [],
   "source": [
    "transaction_df = pd.read_csv(\"data/transactions.csv\")#[[\"address\", \"label\", \"to_benfords_second\", \"from_benfords_second\", \"to_benfords_first\", \"from_benfords_first\", \"in_count\", \"in_gas_limit_med\"]]"
   ]
  },
  {
   "cell_type": "code",
   "execution_count": 4,
   "id": "1b5e1baa-d949-423d-bdfe-89650f3cede1",
   "metadata": {},
   "outputs": [],
   "source": [
    "train_df, test_df = train_test_split(transaction_df, train_size=0.8, shuffle=True, stratify=transaction_df[\"label\"], random_state=1234)"
   ]
  },
  {
   "cell_type": "markdown",
   "id": "118fcec9-827a-4168-9d12-a203083fd519",
   "metadata": {},
   "source": [
    "### Data Exploration"
   ]
  },
  {
   "cell_type": "code",
   "execution_count": 5,
   "id": "a7e58ccd-4765-4336-b3f4-fce2b12f0d70",
   "metadata": {},
   "outputs": [],
   "source": [
    "legit_df = train_df[train_df[\"label\"] == 0].drop(columns=[\"label\"])\n",
    "scam_df = train_df[train_df[\"label\"] == 1].drop(columns=[\"label\"])"
   ]
  },
  {
   "cell_type": "code",
   "execution_count": 6,
   "id": "d5d09651-ac91-44d0-9a43-993d9941bb45",
   "metadata": {},
   "outputs": [
    {
     "data": {
      "text/html": [
       "<div>\n",
       "<style scoped>\n",
       "    .dataframe tbody tr th:only-of-type {\n",
       "        vertical-align: middle;\n",
       "    }\n",
       "\n",
       "    .dataframe tbody tr th {\n",
       "        vertical-align: top;\n",
       "    }\n",
       "\n",
       "    .dataframe thead th {\n",
       "        text-align: right;\n",
       "    }\n",
       "</style>\n",
       "<table border=\"1\" class=\"dataframe\">\n",
       "  <thead>\n",
       "    <tr style=\"text-align: right;\">\n",
       "      <th></th>\n",
       "      <th>total_count</th>\n",
       "      <th>in_count</th>\n",
       "      <th>in_unique</th>\n",
       "      <th>in_value_avg</th>\n",
       "      <th>in_value_med</th>\n",
       "      <th>in_value_std</th>\n",
       "      <th>in_gas_limit_avg</th>\n",
       "      <th>in_gas_limit_med</th>\n",
       "      <th>in_gas_limit_std</th>\n",
       "      <th>from_benfords_first</th>\n",
       "      <th>...</th>\n",
       "      <th>out_count</th>\n",
       "      <th>out_unique</th>\n",
       "      <th>out_value_avg</th>\n",
       "      <th>out_value_med</th>\n",
       "      <th>out_value_std</th>\n",
       "      <th>out_gas_limit_avg</th>\n",
       "      <th>out_gas_limit_med</th>\n",
       "      <th>out_gas_limit_std</th>\n",
       "      <th>to_benfords_first</th>\n",
       "      <th>to_benfords_second</th>\n",
       "    </tr>\n",
       "  </thead>\n",
       "  <tbody>\n",
       "    <tr>\n",
       "      <th>count</th>\n",
       "      <td>748072.000000</td>\n",
       "      <td>748072.000000</td>\n",
       "      <td>748072.000000</td>\n",
       "      <td>748072.000000</td>\n",
       "      <td>748072.000000</td>\n",
       "      <td>748072.000000</td>\n",
       "      <td>7.480720e+05</td>\n",
       "      <td>7.480720e+05</td>\n",
       "      <td>7.480720e+05</td>\n",
       "      <td>748072.000000</td>\n",
       "      <td>...</td>\n",
       "      <td>748072.000000</td>\n",
       "      <td>748072.000000</td>\n",
       "      <td>748072.000000</td>\n",
       "      <td>748072.000000</td>\n",
       "      <td>748072.000000</td>\n",
       "      <td>7.480720e+05</td>\n",
       "      <td>7.480720e+05</td>\n",
       "      <td>7.480720e+05</td>\n",
       "      <td>748072.000000</td>\n",
       "      <td>748072.000000</td>\n",
       "    </tr>\n",
       "    <tr>\n",
       "      <th>mean</th>\n",
       "      <td>10.609662</td>\n",
       "      <td>5.283947</td>\n",
       "      <td>1.428048</td>\n",
       "      <td>0.739568</td>\n",
       "      <td>0.719075</td>\n",
       "      <td>0.286847</td>\n",
       "      <td>1.027917e+05</td>\n",
       "      <td>1.991874e+04</td>\n",
       "      <td>9.992669e+04</td>\n",
       "      <td>3.505913</td>\n",
       "      <td>...</td>\n",
       "      <td>5.325715</td>\n",
       "      <td>1.395161</td>\n",
       "      <td>0.966803</td>\n",
       "      <td>0.883966</td>\n",
       "      <td>0.425547</td>\n",
       "      <td>9.481389e+04</td>\n",
       "      <td>1.894172e+04</td>\n",
       "      <td>9.337039e+04</td>\n",
       "      <td>5.246943</td>\n",
       "      <td>5.327209</td>\n",
       "    </tr>\n",
       "    <tr>\n",
       "      <th>std</th>\n",
       "      <td>680.763536</td>\n",
       "      <td>398.291218</td>\n",
       "      <td>67.187495</td>\n",
       "      <td>61.730297</td>\n",
       "      <td>64.952390</td>\n",
       "      <td>32.601660</td>\n",
       "      <td>3.775520e+05</td>\n",
       "      <td>1.789434e+05</td>\n",
       "      <td>3.777109e+05</td>\n",
       "      <td>6.005701</td>\n",
       "      <td>...</td>\n",
       "      <td>353.064119</td>\n",
       "      <td>69.865124</td>\n",
       "      <td>146.871255</td>\n",
       "      <td>144.671197</td>\n",
       "      <td>69.179250</td>\n",
       "      <td>1.835506e+05</td>\n",
       "      <td>1.048414e+05</td>\n",
       "      <td>1.869295e+05</td>\n",
       "      <td>6.442285</td>\n",
       "      <td>6.594294</td>\n",
       "    </tr>\n",
       "    <tr>\n",
       "      <th>min</th>\n",
       "      <td>1.000000</td>\n",
       "      <td>0.000000</td>\n",
       "      <td>0.000000</td>\n",
       "      <td>0.000000</td>\n",
       "      <td>0.000000</td>\n",
       "      <td>0.000000</td>\n",
       "      <td>0.000000e+00</td>\n",
       "      <td>0.000000e+00</td>\n",
       "      <td>0.000000e+00</td>\n",
       "      <td>0.000000</td>\n",
       "      <td>...</td>\n",
       "      <td>0.000000</td>\n",
       "      <td>0.000000</td>\n",
       "      <td>0.000000</td>\n",
       "      <td>0.000000</td>\n",
       "      <td>0.000000</td>\n",
       "      <td>0.000000e+00</td>\n",
       "      <td>0.000000e+00</td>\n",
       "      <td>0.000000e+00</td>\n",
       "      <td>0.000000</td>\n",
       "      <td>0.000000</td>\n",
       "    </tr>\n",
       "    <tr>\n",
       "      <th>25%</th>\n",
       "      <td>1.000000</td>\n",
       "      <td>0.000000</td>\n",
       "      <td>0.000000</td>\n",
       "      <td>0.000000</td>\n",
       "      <td>0.000000</td>\n",
       "      <td>0.000000</td>\n",
       "      <td>0.000000e+00</td>\n",
       "      <td>0.000000e+00</td>\n",
       "      <td>0.000000e+00</td>\n",
       "      <td>0.000000</td>\n",
       "      <td>...</td>\n",
       "      <td>0.000000</td>\n",
       "      <td>0.000000</td>\n",
       "      <td>0.000000</td>\n",
       "      <td>0.000000</td>\n",
       "      <td>0.000000</td>\n",
       "      <td>0.000000e+00</td>\n",
       "      <td>0.000000e+00</td>\n",
       "      <td>0.000000e+00</td>\n",
       "      <td>0.000000</td>\n",
       "      <td>0.000000</td>\n",
       "    </tr>\n",
       "    <tr>\n",
       "      <th>50%</th>\n",
       "      <td>2.000000</td>\n",
       "      <td>0.000000</td>\n",
       "      <td>0.000000</td>\n",
       "      <td>0.000000</td>\n",
       "      <td>0.000000</td>\n",
       "      <td>0.000000</td>\n",
       "      <td>0.000000e+00</td>\n",
       "      <td>0.000000e+00</td>\n",
       "      <td>0.000000e+00</td>\n",
       "      <td>0.000000</td>\n",
       "      <td>...</td>\n",
       "      <td>1.000000</td>\n",
       "      <td>1.000000</td>\n",
       "      <td>0.000000</td>\n",
       "      <td>0.000000</td>\n",
       "      <td>0.000000</td>\n",
       "      <td>5.000000e+04</td>\n",
       "      <td>0.000000e+00</td>\n",
       "      <td>4.796250e+04</td>\n",
       "      <td>0.574798</td>\n",
       "      <td>0.563550</td>\n",
       "    </tr>\n",
       "    <tr>\n",
       "      <th>75%</th>\n",
       "      <td>2.000000</td>\n",
       "      <td>2.000000</td>\n",
       "      <td>1.000000</td>\n",
       "      <td>0.035796</td>\n",
       "      <td>0.032725</td>\n",
       "      <td>0.000000</td>\n",
       "      <td>6.300000e+04</td>\n",
       "      <td>0.000000e+00</td>\n",
       "      <td>6.300000e+04</td>\n",
       "      <td>1.738324</td>\n",
       "      <td>...</td>\n",
       "      <td>2.000000</td>\n",
       "      <td>1.000000</td>\n",
       "      <td>0.001356</td>\n",
       "      <td>0.000932</td>\n",
       "      <td>0.000000</td>\n",
       "      <td>1.052750e+05</td>\n",
       "      <td>0.000000e+00</td>\n",
       "      <td>1.000000e+05</td>\n",
       "      <td>13.586729</td>\n",
       "      <td>14.491454</td>\n",
       "    </tr>\n",
       "    <tr>\n",
       "      <th>max</th>\n",
       "      <td>404569.000000</td>\n",
       "      <td>172932.000000</td>\n",
       "      <td>9986.000000</td>\n",
       "      <td>35000.000000</td>\n",
       "      <td>35000.000000</td>\n",
       "      <td>13560.191292</td>\n",
       "      <td>1.795264e+07</td>\n",
       "      <td>1.384559e+07</td>\n",
       "      <td>1.795264e+07</td>\n",
       "      <td>15.676941</td>\n",
       "      <td>...</td>\n",
       "      <td>231637.000000</td>\n",
       "      <td>47214.000000</td>\n",
       "      <td>100000.000000</td>\n",
       "      <td>100000.000000</td>\n",
       "      <td>43354.410467</td>\n",
       "      <td>2.850000e+07</td>\n",
       "      <td>2.009964e+07</td>\n",
       "      <td>2.850000e+07</td>\n",
       "      <td>15.676941</td>\n",
       "      <td>14.618840</td>\n",
       "    </tr>\n",
       "  </tbody>\n",
       "</table>\n",
       "<p>8 rows × 21 columns</p>\n",
       "</div>"
      ],
      "text/plain": [
       "         total_count       in_count      in_unique   in_value_avg  \\\n",
       "count  748072.000000  748072.000000  748072.000000  748072.000000   \n",
       "mean       10.609662       5.283947       1.428048       0.739568   \n",
       "std       680.763536     398.291218      67.187495      61.730297   \n",
       "min         1.000000       0.000000       0.000000       0.000000   \n",
       "25%         1.000000       0.000000       0.000000       0.000000   \n",
       "50%         2.000000       0.000000       0.000000       0.000000   \n",
       "75%         2.000000       2.000000       1.000000       0.035796   \n",
       "max    404569.000000  172932.000000    9986.000000   35000.000000   \n",
       "\n",
       "        in_value_med   in_value_std  in_gas_limit_avg  in_gas_limit_med  \\\n",
       "count  748072.000000  748072.000000      7.480720e+05      7.480720e+05   \n",
       "mean        0.719075       0.286847      1.027917e+05      1.991874e+04   \n",
       "std        64.952390      32.601660      3.775520e+05      1.789434e+05   \n",
       "min         0.000000       0.000000      0.000000e+00      0.000000e+00   \n",
       "25%         0.000000       0.000000      0.000000e+00      0.000000e+00   \n",
       "50%         0.000000       0.000000      0.000000e+00      0.000000e+00   \n",
       "75%         0.032725       0.000000      6.300000e+04      0.000000e+00   \n",
       "max     35000.000000   13560.191292      1.795264e+07      1.384559e+07   \n",
       "\n",
       "       in_gas_limit_std  from_benfords_first  ...      out_count  \\\n",
       "count      7.480720e+05        748072.000000  ...  748072.000000   \n",
       "mean       9.992669e+04             3.505913  ...       5.325715   \n",
       "std        3.777109e+05             6.005701  ...     353.064119   \n",
       "min        0.000000e+00             0.000000  ...       0.000000   \n",
       "25%        0.000000e+00             0.000000  ...       0.000000   \n",
       "50%        0.000000e+00             0.000000  ...       1.000000   \n",
       "75%        6.300000e+04             1.738324  ...       2.000000   \n",
       "max        1.795264e+07            15.676941  ...  231637.000000   \n",
       "\n",
       "          out_unique  out_value_avg  out_value_med  out_value_std  \\\n",
       "count  748072.000000  748072.000000  748072.000000  748072.000000   \n",
       "mean        1.395161       0.966803       0.883966       0.425547   \n",
       "std        69.865124     146.871255     144.671197      69.179250   \n",
       "min         0.000000       0.000000       0.000000       0.000000   \n",
       "25%         0.000000       0.000000       0.000000       0.000000   \n",
       "50%         1.000000       0.000000       0.000000       0.000000   \n",
       "75%         1.000000       0.001356       0.000932       0.000000   \n",
       "max     47214.000000  100000.000000  100000.000000   43354.410467   \n",
       "\n",
       "       out_gas_limit_avg  out_gas_limit_med  out_gas_limit_std  \\\n",
       "count       7.480720e+05       7.480720e+05       7.480720e+05   \n",
       "mean        9.481389e+04       1.894172e+04       9.337039e+04   \n",
       "std         1.835506e+05       1.048414e+05       1.869295e+05   \n",
       "min         0.000000e+00       0.000000e+00       0.000000e+00   \n",
       "25%         0.000000e+00       0.000000e+00       0.000000e+00   \n",
       "50%         5.000000e+04       0.000000e+00       4.796250e+04   \n",
       "75%         1.052750e+05       0.000000e+00       1.000000e+05   \n",
       "max         2.850000e+07       2.009964e+07       2.850000e+07   \n",
       "\n",
       "       to_benfords_first  to_benfords_second  \n",
       "count      748072.000000       748072.000000  \n",
       "mean            5.246943            5.327209  \n",
       "std             6.442285            6.594294  \n",
       "min             0.000000            0.000000  \n",
       "25%             0.000000            0.000000  \n",
       "50%             0.574798            0.563550  \n",
       "75%            13.586729           14.491454  \n",
       "max            15.676941           14.618840  \n",
       "\n",
       "[8 rows x 21 columns]"
      ]
     },
     "execution_count": 6,
     "metadata": {},
     "output_type": "execute_result"
    }
   ],
   "source": [
    "legit_df.describe()"
   ]
  },
  {
   "cell_type": "code",
   "execution_count": 7,
   "id": "81f7bdbb-d4c8-460d-90fc-2e8de16f8d66",
   "metadata": {},
   "outputs": [
    {
     "data": {
      "text/html": [
       "<div>\n",
       "<style scoped>\n",
       "    .dataframe tbody tr th:only-of-type {\n",
       "        vertical-align: middle;\n",
       "    }\n",
       "\n",
       "    .dataframe tbody tr th {\n",
       "        vertical-align: top;\n",
       "    }\n",
       "\n",
       "    .dataframe thead th {\n",
       "        text-align: right;\n",
       "    }\n",
       "</style>\n",
       "<table border=\"1\" class=\"dataframe\">\n",
       "  <thead>\n",
       "    <tr style=\"text-align: right;\">\n",
       "      <th></th>\n",
       "      <th>total_count</th>\n",
       "      <th>in_count</th>\n",
       "      <th>in_unique</th>\n",
       "      <th>in_value_avg</th>\n",
       "      <th>in_value_med</th>\n",
       "      <th>in_value_std</th>\n",
       "      <th>in_gas_limit_avg</th>\n",
       "      <th>in_gas_limit_med</th>\n",
       "      <th>in_gas_limit_std</th>\n",
       "      <th>from_benfords_first</th>\n",
       "      <th>...</th>\n",
       "      <th>out_count</th>\n",
       "      <th>out_unique</th>\n",
       "      <th>out_value_avg</th>\n",
       "      <th>out_value_med</th>\n",
       "      <th>out_value_std</th>\n",
       "      <th>out_gas_limit_avg</th>\n",
       "      <th>out_gas_limit_med</th>\n",
       "      <th>out_gas_limit_std</th>\n",
       "      <th>to_benfords_first</th>\n",
       "      <th>to_benfords_second</th>\n",
       "    </tr>\n",
       "  </thead>\n",
       "  <tbody>\n",
       "    <tr>\n",
       "      <th>count</th>\n",
       "      <td>4710.000000</td>\n",
       "      <td>4710.000000</td>\n",
       "      <td>4710.000000</td>\n",
       "      <td>4710.000000</td>\n",
       "      <td>4710.000000</td>\n",
       "      <td>4710.000000</td>\n",
       "      <td>4.710000e+03</td>\n",
       "      <td>4.710000e+03</td>\n",
       "      <td>4.710000e+03</td>\n",
       "      <td>4710.000000</td>\n",
       "      <td>...</td>\n",
       "      <td>4710.000000</td>\n",
       "      <td>4710.000000</td>\n",
       "      <td>4710.000000</td>\n",
       "      <td>4710.000000</td>\n",
       "      <td>4710.000000</td>\n",
       "      <td>4.710000e+03</td>\n",
       "      <td>4.710000e+03</td>\n",
       "      <td>4.710000e+03</td>\n",
       "      <td>4710.000000</td>\n",
       "      <td>4710.000000</td>\n",
       "    </tr>\n",
       "    <tr>\n",
       "      <th>mean</th>\n",
       "      <td>16.407856</td>\n",
       "      <td>8.220170</td>\n",
       "      <td>2.160722</td>\n",
       "      <td>0.295235</td>\n",
       "      <td>0.277913</td>\n",
       "      <td>0.118331</td>\n",
       "      <td>4.425386e+05</td>\n",
       "      <td>1.129234e+05</td>\n",
       "      <td>4.366017e+05</td>\n",
       "      <td>9.508460</td>\n",
       "      <td>...</td>\n",
       "      <td>8.187686</td>\n",
       "      <td>2.115499</td>\n",
       "      <td>0.229856</td>\n",
       "      <td>0.188541</td>\n",
       "      <td>0.170720</td>\n",
       "      <td>1.997720e+05</td>\n",
       "      <td>4.859448e+04</td>\n",
       "      <td>1.929374e+05</td>\n",
       "      <td>10.592497</td>\n",
       "      <td>10.898722</td>\n",
       "    </tr>\n",
       "    <tr>\n",
       "      <th>std</th>\n",
       "      <td>273.545783</td>\n",
       "      <td>164.237367</td>\n",
       "      <td>57.868450</td>\n",
       "      <td>1.948743</td>\n",
       "      <td>1.959107</td>\n",
       "      <td>1.148232</td>\n",
       "      <td>1.316225e+06</td>\n",
       "      <td>5.220268e+05</td>\n",
       "      <td>1.347379e+06</td>\n",
       "      <td>6.068934</td>\n",
       "      <td>...</td>\n",
       "      <td>113.046106</td>\n",
       "      <td>53.504136</td>\n",
       "      <td>1.152408</td>\n",
       "      <td>1.304765</td>\n",
       "      <td>1.085636</td>\n",
       "      <td>3.615572e+05</td>\n",
       "      <td>3.038055e+05</td>\n",
       "      <td>3.734714e+05</td>\n",
       "      <td>5.361766</td>\n",
       "      <td>5.925650</td>\n",
       "    </tr>\n",
       "    <tr>\n",
       "      <th>min</th>\n",
       "      <td>1.000000</td>\n",
       "      <td>0.000000</td>\n",
       "      <td>0.000000</td>\n",
       "      <td>0.000000</td>\n",
       "      <td>0.000000</td>\n",
       "      <td>0.000000</td>\n",
       "      <td>0.000000e+00</td>\n",
       "      <td>0.000000e+00</td>\n",
       "      <td>0.000000e+00</td>\n",
       "      <td>0.000000</td>\n",
       "      <td>...</td>\n",
       "      <td>0.000000</td>\n",
       "      <td>0.000000</td>\n",
       "      <td>0.000000</td>\n",
       "      <td>0.000000</td>\n",
       "      <td>0.000000</td>\n",
       "      <td>0.000000e+00</td>\n",
       "      <td>0.000000e+00</td>\n",
       "      <td>0.000000e+00</td>\n",
       "      <td>0.000000</td>\n",
       "      <td>0.000000</td>\n",
       "    </tr>\n",
       "    <tr>\n",
       "      <th>25%</th>\n",
       "      <td>2.000000</td>\n",
       "      <td>1.000000</td>\n",
       "      <td>1.000000</td>\n",
       "      <td>0.003397</td>\n",
       "      <td>0.002997</td>\n",
       "      <td>0.000000</td>\n",
       "      <td>5.582400e+04</td>\n",
       "      <td>0.000000e+00</td>\n",
       "      <td>5.343725e+04</td>\n",
       "      <td>0.574798</td>\n",
       "      <td>...</td>\n",
       "      <td>2.000000</td>\n",
       "      <td>1.000000</td>\n",
       "      <td>0.000000</td>\n",
       "      <td>0.000000</td>\n",
       "      <td>0.000000</td>\n",
       "      <td>1.061463e+05</td>\n",
       "      <td>0.000000e+00</td>\n",
       "      <td>1.000000e+05</td>\n",
       "      <td>12.821304</td>\n",
       "      <td>6.522149</td>\n",
       "    </tr>\n",
       "    <tr>\n",
       "      <th>50%</th>\n",
       "      <td>4.000000</td>\n",
       "      <td>2.000000</td>\n",
       "      <td>1.000000</td>\n",
       "      <td>0.032967</td>\n",
       "      <td>0.029016</td>\n",
       "      <td>0.000000</td>\n",
       "      <td>1.750000e+05</td>\n",
       "      <td>0.000000e+00</td>\n",
       "      <td>1.595525e+05</td>\n",
       "      <td>13.586729</td>\n",
       "      <td>...</td>\n",
       "      <td>2.000000</td>\n",
       "      <td>1.000000</td>\n",
       "      <td>0.000000</td>\n",
       "      <td>0.000000</td>\n",
       "      <td>0.000000</td>\n",
       "      <td>2.000000e+05</td>\n",
       "      <td>0.000000e+00</td>\n",
       "      <td>2.000000e+05</td>\n",
       "      <td>13.586729</td>\n",
       "      <td>14.448731</td>\n",
       "    </tr>\n",
       "    <tr>\n",
       "      <th>75%</th>\n",
       "      <td>6.000000</td>\n",
       "      <td>2.000000</td>\n",
       "      <td>1.000000</td>\n",
       "      <td>0.121211</td>\n",
       "      <td>0.108435</td>\n",
       "      <td>0.000682</td>\n",
       "      <td>2.000000e+05</td>\n",
       "      <td>0.000000e+00</td>\n",
       "      <td>2.000000e+05</td>\n",
       "      <td>13.586729</td>\n",
       "      <td>...</td>\n",
       "      <td>4.000000</td>\n",
       "      <td>1.000000</td>\n",
       "      <td>0.012865</td>\n",
       "      <td>0.003050</td>\n",
       "      <td>0.000000</td>\n",
       "      <td>2.000000e+05</td>\n",
       "      <td>2.391703e+04</td>\n",
       "      <td>2.000000e+05</td>\n",
       "      <td>13.586729</td>\n",
       "      <td>14.448731</td>\n",
       "    </tr>\n",
       "    <tr>\n",
       "      <th>max</th>\n",
       "      <td>16188.000000</td>\n",
       "      <td>10074.000000</td>\n",
       "      <td>3857.000000</td>\n",
       "      <td>98.109183</td>\n",
       "      <td>98.109183</td>\n",
       "      <td>66.017469</td>\n",
       "      <td>7.600027e+06</td>\n",
       "      <td>5.324689e+06</td>\n",
       "      <td>7.600027e+06</td>\n",
       "      <td>15.676941</td>\n",
       "      <td>...</td>\n",
       "      <td>6114.000000</td>\n",
       "      <td>3634.000000</td>\n",
       "      <td>42.666667</td>\n",
       "      <td>64.000000</td>\n",
       "      <td>36.950417</td>\n",
       "      <td>7.600027e+06</td>\n",
       "      <td>5.327276e+06</td>\n",
       "      <td>7.600027e+06</td>\n",
       "      <td>15.676941</td>\n",
       "      <td>14.555292</td>\n",
       "    </tr>\n",
       "  </tbody>\n",
       "</table>\n",
       "<p>8 rows × 21 columns</p>\n",
       "</div>"
      ],
      "text/plain": [
       "        total_count      in_count    in_unique  in_value_avg  in_value_med  \\\n",
       "count   4710.000000   4710.000000  4710.000000   4710.000000   4710.000000   \n",
       "mean      16.407856      8.220170     2.160722      0.295235      0.277913   \n",
       "std      273.545783    164.237367    57.868450      1.948743      1.959107   \n",
       "min        1.000000      0.000000     0.000000      0.000000      0.000000   \n",
       "25%        2.000000      1.000000     1.000000      0.003397      0.002997   \n",
       "50%        4.000000      2.000000     1.000000      0.032967      0.029016   \n",
       "75%        6.000000      2.000000     1.000000      0.121211      0.108435   \n",
       "max    16188.000000  10074.000000  3857.000000     98.109183     98.109183   \n",
       "\n",
       "       in_value_std  in_gas_limit_avg  in_gas_limit_med  in_gas_limit_std  \\\n",
       "count   4710.000000      4.710000e+03      4.710000e+03      4.710000e+03   \n",
       "mean       0.118331      4.425386e+05      1.129234e+05      4.366017e+05   \n",
       "std        1.148232      1.316225e+06      5.220268e+05      1.347379e+06   \n",
       "min        0.000000      0.000000e+00      0.000000e+00      0.000000e+00   \n",
       "25%        0.000000      5.582400e+04      0.000000e+00      5.343725e+04   \n",
       "50%        0.000000      1.750000e+05      0.000000e+00      1.595525e+05   \n",
       "75%        0.000682      2.000000e+05      0.000000e+00      2.000000e+05   \n",
       "max       66.017469      7.600027e+06      5.324689e+06      7.600027e+06   \n",
       "\n",
       "       from_benfords_first  ...    out_count   out_unique  out_value_avg  \\\n",
       "count          4710.000000  ...  4710.000000  4710.000000    4710.000000   \n",
       "mean              9.508460  ...     8.187686     2.115499       0.229856   \n",
       "std               6.068934  ...   113.046106    53.504136       1.152408   \n",
       "min               0.000000  ...     0.000000     0.000000       0.000000   \n",
       "25%               0.574798  ...     2.000000     1.000000       0.000000   \n",
       "50%              13.586729  ...     2.000000     1.000000       0.000000   \n",
       "75%              13.586729  ...     4.000000     1.000000       0.012865   \n",
       "max              15.676941  ...  6114.000000  3634.000000      42.666667   \n",
       "\n",
       "       out_value_med  out_value_std  out_gas_limit_avg  out_gas_limit_med  \\\n",
       "count    4710.000000    4710.000000       4.710000e+03       4.710000e+03   \n",
       "mean        0.188541       0.170720       1.997720e+05       4.859448e+04   \n",
       "std         1.304765       1.085636       3.615572e+05       3.038055e+05   \n",
       "min         0.000000       0.000000       0.000000e+00       0.000000e+00   \n",
       "25%         0.000000       0.000000       1.061463e+05       0.000000e+00   \n",
       "50%         0.000000       0.000000       2.000000e+05       0.000000e+00   \n",
       "75%         0.003050       0.000000       2.000000e+05       2.391703e+04   \n",
       "max        64.000000      36.950417       7.600027e+06       5.327276e+06   \n",
       "\n",
       "       out_gas_limit_std  to_benfords_first  to_benfords_second  \n",
       "count       4.710000e+03        4710.000000         4710.000000  \n",
       "mean        1.929374e+05          10.592497           10.898722  \n",
       "std         3.734714e+05           5.361766            5.925650  \n",
       "min         0.000000e+00           0.000000            0.000000  \n",
       "25%         1.000000e+05          12.821304            6.522149  \n",
       "50%         2.000000e+05          13.586729           14.448731  \n",
       "75%         2.000000e+05          13.586729           14.448731  \n",
       "max         7.600027e+06          15.676941           14.555292  \n",
       "\n",
       "[8 rows x 21 columns]"
      ]
     },
     "execution_count": 7,
     "metadata": {},
     "output_type": "execute_result"
    }
   ],
   "source": [
    "scam_df.describe()"
   ]
  },
  {
   "cell_type": "code",
   "execution_count": 8,
   "id": "d45a233b-a701-4c30-a8c2-25482e82540c",
   "metadata": {},
   "outputs": [],
   "source": [
    "trans_corr = train_df.corr()\n",
    "legit_corr = legit_df.corr()\n",
    "scam_corr = scam_df.corr()\n",
    "\n",
    "abs_corr_dif = np.abs(legit_corr - scam_corr)"
   ]
  },
  {
   "cell_type": "code",
   "execution_count": 9,
   "id": "a52cf883-46de-47ec-94d8-b0db57c082d9",
   "metadata": {},
   "outputs": [
    {
     "name": "stdout",
     "output_type": "stream",
     "text": [
      "Feature Correlation with Label:\n",
      "label                   1.000000\n",
      "total_count             0.000673\n",
      "in_count                0.000583\n",
      "in_unique               0.000861\n",
      "in_value_avg           -0.000569\n",
      "in_value_med           -0.000537\n",
      "in_value_std           -0.000409\n",
      "in_gas_limit_avg        0.068443\n",
      "in_gas_limit_med        0.040021\n",
      "in_gas_limit_std        0.067686\n",
      "from_benfords_first     0.078562\n",
      "from_benfords_second    0.101905\n",
      "out_count               0.000641\n",
      "out_unique              0.000814\n",
      "out_value_avg          -0.000397\n",
      "out_value_med          -0.000380\n",
      "out_value_std          -0.000291\n",
      "out_gas_limit_avg       0.044644\n",
      "out_gas_limit_med       0.021798\n",
      "out_gas_limit_std       0.041577\n",
      "to_benfords_first       0.065351\n",
      "to_benfords_second      0.066515\n",
      "Name: label, dtype: float64\n"
     ]
    }
   ],
   "source": [
    "print(f\"Feature Correlation with Label:\\n{trans_corr['label']}\")"
   ]
  },
  {
   "cell_type": "code",
   "execution_count": 10,
   "id": "171e7aa1-b9c0-4fb7-972c-ef67d689420b",
   "metadata": {},
   "outputs": [
    {
     "data": {
      "image/png": "[encoded data removed]",
      "text/plain": [
       "<Figure size 432x288 with 2 Axes>"
      ]
     },
     "metadata": {
      "needs_background": "light"
     },
     "output_type": "display_data"
    },
    {
     "data": {
      "image/png": "[encoded data removed]",
      "text/plain": [
       "<Figure size 432x288 with 2 Axes>"
      ]
     },
     "metadata": {
      "needs_background": "light"
     },
     "output_type": "display_data"
    },
    {
     "data": {
      "image/png": "[encoded data removed]",
      "text/plain": [
       "<Figure size 432x288 with 2 Axes>"
      ]
     },
     "metadata": {
      "needs_background": "light"
     },
     "output_type": "display_data"
    }
   ],
   "source": [
    "sns.heatmap(legit_corr, xticklabels=True, yticklabels=True, square=True)\n",
    "plt.title(\"Legit Addresses Correltation Matrix\")\n",
    "plt.show()\n",
    "\n",
    "sns.heatmap(scam_corr, xticklabels=True, yticklabels=True, square=True)\n",
    "plt.title(\"Scam Addresses Correltation Matrix\")\n",
    "plt.show()\n",
    "\n",
    "sns.heatmap(abs_corr_dif, xticklabels=True, yticklabels=True, square=True)\n",
    "plt.title(\"Absolute Difference of Scam and Legit Correltation Matrices\")\n",
    "plt.show()"
   ]
  },
  {
   "cell_type": "markdown",
   "id": "89f99934-9cd1-40c3-8ad0-038436dd6761",
   "metadata": {},
   "source": [
    "### Feature Selection"
   ]
  },
  {
   "cell_type": "code",
   "execution_count": 11,
   "id": "255b13db-07d1-4087-bee7-c18c71ff11b4",
   "metadata": {},
   "outputs": [],
   "source": [
    "rows, columns = np.where(abs_corr_dif >= 0.75)"
   ]
  },
  {
   "cell_type": "code",
   "execution_count": 12,
   "id": "f92bc1b7-197c-446b-b147-d943b9de4a14",
   "metadata": {},
   "outputs": [],
   "source": [
    "rows = np.unique(rows)\n",
    "columns = np.unique(columns)"
   ]
  },
  {
   "cell_type": "code",
   "execution_count": 13,
   "id": "9e57db7a-ca49-4afb-ac6d-787057f9ab15",
   "metadata": {},
   "outputs": [],
   "source": [
    "rows = abs_corr_dif.axes[0][rows]\n",
    "columns = abs_corr_dif.axes[1][columns]"
   ]
  },
  {
   "cell_type": "code",
   "execution_count": 14,
   "id": "4df63443-130a-4fbe-a6ff-3f98f8a9ee08",
   "metadata": {},
   "outputs": [],
   "source": [
    "feature_list = np.union1d(rows, columns).tolist()"
   ]
  },
  {
   "cell_type": "code",
   "execution_count": 15,
   "id": "66bd7e4f-80a3-42d2-b874-1e99815f6165",
   "metadata": {},
   "outputs": [],
   "source": [
    "train_df = train_df[[\"address\", \"label\"] + feature_list]\n",
    "test_df = test_df[[\"address\", \"label\"] + feature_list]"
   ]
  },
  {
   "cell_type": "code",
   "execution_count": 16,
   "id": "d01984fd-1ef2-48ae-85e5-d5f7219ab622",
   "metadata": {},
   "outputs": [
    {
     "data": {
      "text/plain": [
       "['address',\n",
       " 'label',\n",
       " 'from_benfords_first',\n",
       " 'from_benfords_second',\n",
       " 'in_unique',\n",
       " 'out_unique',\n",
       " 'to_benfords_first',\n",
       " 'to_benfords_second']"
      ]
     },
     "execution_count": 16,
     "metadata": {},
     "output_type": "execute_result"
    }
   ],
   "source": [
    "train_df.columns.to_list()"
   ]
  },
  {
   "cell_type": "markdown",
   "id": "28f2f782-6594-400d-854d-2fa255360485",
   "metadata": {},
   "source": [
    "### Constructing Dataset and Centered and Scaled"
   ]
  },
  {
   "cell_type": "code",
   "execution_count": 17,
   "id": "e7200eef-449e-4209-b24d-3aa2e7659d75",
   "metadata": {},
   "outputs": [],
   "source": [
    "train_addr = train_df[\"address\"].to_numpy()\n",
    "y_train = train_df[\"label\"].to_numpy()\n",
    "X_train = train_df.drop(columns=[\"address\", \"label\"]).to_numpy()\n",
    "\n",
    "test_addr = test_df[\"address\"].to_numpy()\n",
    "y_test = test_df[\"label\"].to_numpy()\n",
    "X_test = test_df.drop(columns=[\"address\", \"label\"]).to_numpy()"
   ]
  },
  {
   "cell_type": "code",
   "execution_count": 18,
   "id": "5d5773c2-5cd4-4417-bf7b-84cd8644e0b9",
   "metadata": {},
   "outputs": [],
   "source": [
    "ss = StandardScaler().fit(X_train)"
   ]
  },
  {
   "cell_type": "code",
   "execution_count": 19,
   "id": "fdc3d5fe-c5eb-4d36-9dfe-029fa15c002c",
   "metadata": {},
   "outputs": [
    {
     "name": "stdout",
     "output_type": "stream",
     "text": [
      "Standard Scalar Mean: [3.5434692067655664, 2.817430869331877, 1.4326325549760754, 1.3996681642228428, 5.280388884721533, 5.362069063704834]\n",
      "Standard Scalar STD: [6.02471166576313, 5.50009675574053, 67.13315638506003, 69.77463397633515, 6.4498689934253814, 6.604940778259221]\n"
     ]
    }
   ],
   "source": [
    "print(\"Standard Scalar Mean:\", ss.mean_.tolist(), end=\"\\n\")\n",
    "print(\"Standard Scalar STD:\", ss.scale_.tolist())"
   ]
  },
  {
   "cell_type": "code",
   "execution_count": 20,
   "id": "bec0bd14-efdb-47ae-a8a5-d3de8b58c323",
   "metadata": {},
   "outputs": [],
   "source": [
    "X_train = ss.transform(X_train)\n",
    "X_test = ss.transform(X_test)"
   ]
  },
  {
   "cell_type": "markdown",
   "id": "66e8358c-40ab-4ad4-a5e0-c37044123675",
   "metadata": {},
   "source": [
    "### Train Model and Set Classification Threshold"
   ]
  },
  {
   "cell_type": "code",
   "execution_count": 21,
   "id": "6c17e70c-a8ac-4d42-a1a6-0de093b41569",
   "metadata": {},
   "outputs": [],
   "source": [
    "MDM = MahalanobisDistenceMethod(epsilon=0.03)\n",
    "MDM.fit(X_train)"
   ]
  },
  {
   "cell_type": "code",
   "execution_count": 22,
   "id": "bf14b39e-d7d4-4a41-8245-bc5892404fa3",
   "metadata": {},
   "outputs": [],
   "source": [
    "results = MDM.evaluate(X_train, y_train)"
   ]
  },
  {
   "cell_type": "code",
   "execution_count": 23,
   "id": "988c332f-c896-4800-8ce8-13c09f069198",
   "metadata": {},
   "outputs": [
    {
     "data": {
      "image/png": "[encoded data removed]",
      "text/plain": [
       "<Figure size 432x288 with 1 Axes>"
      ]
     },
     "metadata": {
      "needs_background": "light"
     },
     "output_type": "display_data"
    }
   ],
   "source": [
    "eps = 0\n",
    "for i, (s_acc, l_acc) in enumerate(zip(results[\"scam_accuracy\"], results[\"legit_accuracy\"])):\n",
    "    if s_acc+0.3 >= l_acc:\n",
    "        eps = results[\"epsilon\"][i]\n",
    "        MDM.set_epsilon(eps)\n",
    "        plt.axvline(eps, color=\"red\")\n",
    "        break\n",
    "        \n",
    "plt.plot(results[\"epsilon\"], results[\"scam_accuracy\"], label=\"Scam\")\n",
    "plt.plot(results[\"epsilon\"], results[\"legit_accuracy\"], label=\"Legit\")\n",
    "plt.plot(results[\"epsilon\"], results[\"accuracy\"], label=\"Overall\")\n",
    "plt.legend()\n",
    "plt.show()"
   ]
  },
  {
   "cell_type": "code",
   "execution_count": 24,
   "id": "59346628-39e4-4025-8097-e649aeb59502",
   "metadata": {},
   "outputs": [],
   "source": [
    "eps = results[\"epsilon\"][np.argmax(results[\"f1-score\"])-1]"
   ]
  },
  {
   "cell_type": "markdown",
   "id": "76dea2f6-3eb1-4c8b-9685-bf6873e3d1c7",
   "metadata": {},
   "source": [
    "### Evaluate Training Set "
   ]
  },
  {
   "cell_type": "code",
   "execution_count": 25,
   "id": "b1090cf3-3192-47d8-86b9-e3c2ef35a232",
   "metadata": {},
   "outputs": [],
   "source": [
    "y_pred = MDM.classify(X_train)"
   ]
  },
  {
   "cell_type": "code",
   "execution_count": 26,
   "id": "db54263e-507c-4b8d-b9d2-a64b86690770",
   "metadata": {},
   "outputs": [],
   "source": [
    "y_scam = y_pred[np.where(y_train==1)]\n",
    "y_legit = y_pred[np.where(y_train==0)]"
   ]
  },
  {
   "cell_type": "code",
   "execution_count": 27,
   "id": "e5f47f16-29d9-4d6b-bab9-1e779b9154a8",
   "metadata": {},
   "outputs": [],
   "source": [
    "acc = np.sum(y_pred == y_train) / len(y_train)\n",
    "scam_acc = np.sum(y_scam == y_train[np.where(y_train==1)]) / len(y_scam)\n",
    "legit_acc = np.sum(y_legit == y_train[np.where(y_train==0)]) / len(y_legit)"
   ]
  },
  {
   "cell_type": "code",
   "execution_count": 28,
   "id": "886a1d8c-f34e-4c60-b5e4-01c366a62f22",
   "metadata": {},
   "outputs": [
    {
     "name": "stdout",
     "output_type": "stream",
     "text": [
      "Training Accuracy: 0.9465% | Legit Accuracy: 0.9482% | Scam Accuracy: 0.6684%\n"
     ]
    }
   ],
   "source": [
    "print(f\"Training Accuracy: {acc:.4f}% | Legit Accuracy: {legit_acc:.4f}% | Scam Accuracy: {scam_acc:.4f}%\")"
   ]
  },
  {
   "cell_type": "markdown",
   "id": "0d0104c9-8c62-45e1-88d8-b5e24f9a4c5b",
   "metadata": {},
   "source": [
    "### Evaluate Testing Set"
   ]
  },
  {
   "cell_type": "code",
   "execution_count": 29,
   "id": "48d38a5a-5e1e-428b-8140-8011538c47fb",
   "metadata": {},
   "outputs": [],
   "source": [
    "y_pred = MDM.classify(X_test)"
   ]
  },
  {
   "cell_type": "code",
   "execution_count": 30,
   "id": "c3390e4a-3730-4e96-a0bf-5c42eff2f41b",
   "metadata": {},
   "outputs": [],
   "source": [
    "y_scam = y_pred[np.where(y_test==1)]\n",
    "y_legit = y_pred[np.where(y_test==0)]"
   ]
  },
  {
   "cell_type": "code",
   "execution_count": 31,
   "id": "1870e596-5800-4a20-a506-1ac12ae6408b",
   "metadata": {},
   "outputs": [],
   "source": [
    "acc = np.sum(y_pred == y_test) / len(y_test)\n",
    "scam_acc = np.sum(y_scam == y_test[np.where(y_test==1)]) / len(y_scam)\n",
    "legit_acc = np.sum(y_legit == y_test[np.where(y_test==0)]) / len(y_legit)"
   ]
  },
  {
   "cell_type": "code",
   "execution_count": 32,
   "id": "f23fabf5-385b-45ad-863d-e3bb57e86145",
   "metadata": {},
   "outputs": [
    {
     "name": "stdout",
     "output_type": "stream",
     "text": [
      "Training Accuracy: 0.9461% | Legit Accuracy: 0.9479% | Scam Accuracy: 0.6678%\n"
     ]
    }
   ],
   "source": [
    "print(f\"Training Accuracy: {acc:.4f}% | Legit Accuracy: {legit_acc:.4f}% | Scam Accuracy: {scam_acc:.4f}%\")"
   ]
  },
  {
   "cell_type": "code",
   "execution_count": 33,
   "id": "ad010302-389a-4fa3-9680-3d23c5efec9f",
   "metadata": {},
   "outputs": [],
   "source": [
    "mu, sigma = MDM.parameters()"
   ]
  },
  {
   "cell_type": "code",
   "execution_count": 34,
   "id": "06bbab2b-580e-451b-9ca1-0122d36b0159",
   "metadata": {},
   "outputs": [
    {
     "name": "stdout",
     "output_type": "stream",
     "text": [
      "mu:\n",
      "[-1.94441158e-17 -2.07466827e-16 -6.26742372e-18  1.79338932e-19\n",
      "  7.09804614e-18  9.23123554e-18]\n"
     ]
    }
   ],
   "source": [
    "print(f\"mu:\\n{mu}\")"
   ]
  },
  {
   "cell_type": "code",
   "execution_count": 35,
   "id": "801f5b78-bfd6-429b-a2e4-07df17b40830",
   "metadata": {},
   "outputs": [
    {
     "name": "stdout",
     "output_type": "stream",
     "text": [
      "sigma:\n",
      "[[ 1.00000133  0.4878316  -0.00247547 -0.00412757 -0.24490266 -0.26584776]\n",
      " [ 0.4878316   1.00000133 -0.00212154 -0.00438301 -0.25067646 -0.19306424]\n",
      " [-0.00247547 -0.00212154  1.00000133  0.1912427  -0.01111871 -0.0107348 ]\n",
      " [-0.00412757 -0.00438301  0.1912427   1.00000133 -0.00195359 -0.00290502]\n",
      " [-0.24490266 -0.25067646 -0.01111871 -0.00195359  1.00000133  0.35563932]\n",
      " [-0.26584776 -0.19306424 -0.0107348  -0.00290502  0.35563932  1.00000133]]\n"
     ]
    }
   ],
   "source": [
    "print(f\"sigma:\\n{sigma}\")"
   ]
  },
  {
   "cell_type": "code",
   "execution_count": null,
   "id": "8517e61c-c13f-4cfa-b46d-151973b7885d",
   "metadata": {},
   "outputs": [],
   "source": []
  }
 ],
 "metadata": {
  "kernelspec": {
   "display_name": "Python 3",
   "language": "python",
   "name": "python3"
  },
  "language_info": {
   "codemirror_mode": {
    "name": "ipython",
    "version": 3
   },
   "file_extension": ".py",
   "mimetype": "text/x-python",
   "name": "python",
   "nbconvert_exporter": "python",
   "pygments_lexer": "ipython3",
   "version": "3.8.8"
  }
 },
 "nbformat": 4,
 "nbformat_minor": 5
}
